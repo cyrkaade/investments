{
 "cells": [
  {
   "cell_type": "code",
   "execution_count": 38,
   "metadata": {},
   "outputs": [
    {
     "name": "stderr",
     "output_type": "stream",
     "text": [
      "C:\\Users\\jummd\\AppData\\Local\\Temp\\ipykernel_18160\\181852631.py:27: FutureWarning: Series.__getitem__ treating keys as positions is deprecated. In a future version, integer keys will always be treated as labels (consistent with DataFrame behavior). To access a value by position, use `ser.iloc[pos]`\n",
      "  x = (-betas_kz[1])/(betas_kz[2]*2)\n",
      "C:\\Users\\jummd\\AppData\\Local\\Temp\\ipykernel_18160\\181852631.py:28: FutureWarning: Series.__getitem__ treating keys as positions is deprecated. In a future version, integer keys will always be treated as labels (consistent with DataFrame behavior). To access a value by position, use `ser.iloc[pos]`\n",
      "  y = betas_kz[0]+betas_kz[1]*x+betas_kz[2]*(x**2)\n"
     ]
    }
   ],
   "source": [
    "import pandas as pd\n",
    "import numpy as np\n",
    "from scipy import stats\n",
    "import statsmodels.api as sm\n",
    "import statsmodels.formula.api as smf\n",
    "import matplotlib.pyplot as plt\n",
    "\n",
    "data_us = pd.read_excel('alldata.xlsx', sheet_name='США')\n",
    "data_ch = pd.read_excel('alldata.xlsx', sheet_name='Китай')\n",
    "data_ge = pd.read_excel('alldata.xlsx', sheet_name='Germany')\n",
    "data_ca = pd.read_excel('alldata.xlsx', sheet_name='Канада')\n",
    "data_ir = pd.read_excel('alldata.xlsx', sheet_name='Ирландия')\n",
    "data_j = pd.read_excel('alldata.xlsx', sheet_name='Japan')\n",
    "data_kz = pd.read_excel('alldata.xlsx', sheet_name='Казахстан')\n",
    "\n",
    "data_kz['A'] = (data_kz['A'] - data_kz['A'].shift(1)) / data_kz['A'].shift(1) * 100\n",
    "\n",
    "data_kz['OK_shifted'] = data_kz['K'].shift(2)\n",
    "formula_stage_one_kz = \"OK_shifted ~ GDPC.shift(3) + EMPR.shift(3)\"\n",
    "stage_one_model_kz = sm.OLS.from_formula(formula_stage_one_kz, data=data_kz).fit()\n",
    "data_kz['OK_predicted'] = stage_one_model_kz.predict(data_kz)\n",
    "\n",
    "formula_stage_two_kz = \"A ~ OK_predicted + np.power(OK_predicted, 2)\"\n",
    "stage_two_model_kz = sm.OLS.from_formula(formula_stage_two_kz, data=data_kz).fit(cov_type=\"HC3\")\n",
    "betas_kz = stage_two_model_kz.params\n",
    "\n",
    "x = (-betas_kz[1])/(betas_kz[2]*2)\n",
    "y = betas_kz[0]+betas_kz[1]*x+betas_kz[2]*(x**2)"
   ]
  },
  {
   "cell_type": "code",
   "execution_count": 39,
   "metadata": {},
   "outputs": [
    {
     "name": "stdout",
     "output_type": "stream",
     "text": [
      "Kazakhstan - Stage One:\n",
      "                             OLS Regression Results                            \n",
      "==============================================================================\n",
      "Dep. Variable:             OK_shifted   R-squared:                       0.544\n",
      "Model:                            OLS   Adj. R-squared:                  0.442\n",
      "Method:                 Least Squares   F-statistic:                     5.364\n",
      "Date:                Sun, 08 Sep 2024   Prob (F-statistic):            0.00504\n",
      "Time:                        21:05:35   Log-Likelihood:                -53.686\n",
      "No. Observations:                  23   AIC:                             117.4\n",
      "Df Residuals:                      18   BIC:                             123.0\n",
      "Df Model:                           4                                         \n",
      "Covariance Type:            nonrobust                                         \n",
      "==================================================================================\n",
      "                     coef    std err          t      P>|t|      [0.025      0.975]\n",
      "----------------------------------------------------------------------------------\n",
      "Intercept        -76.9076     70.550     -1.090      0.290    -225.127      71.311\n",
      "GDPC.shift(3)     -0.0003      0.000     -0.815      0.426      -0.001       0.000\n",
      "EMPR.shift(3)      1.6019      1.174      1.365      0.189      -0.864       4.068\n",
      "global_crisis      8.0279      1.830      4.388      0.000       4.184      11.872\n",
      "covid_pandemic     1.0742      2.597      0.414      0.684      -4.382       6.530\n",
      "==============================================================================\n",
      "Omnibus:                        0.956   Durbin-Watson:                   0.967\n",
      "Prob(Omnibus):                  0.620   Jarque-Bera (JB):                0.797\n",
      "Skew:                           0.142   Prob(JB):                        0.671\n",
      "Kurtosis:                       2.133   Cond. No.                     2.19e+06\n",
      "==============================================================================\n",
      "\n",
      "Notes:\n",
      "[1] Standard Errors assume that the covariance matrix of the errors is correctly specified.\n",
      "[2] The condition number is large, 2.19e+06. This might indicate that there are\n",
      "strong multicollinearity or other numerical problems.\n",
      "Kazakhstan - Stage Two:\n",
      "                             OLS Regression Results                            \n",
      "==============================================================================\n",
      "Dep. Variable:                      A   R-squared:                       0.135\n",
      "Model:                            OLS   Adj. R-squared:                 -0.058\n",
      "Method:                 Least Squares   F-statistic:                    0.2634\n",
      "Date:                Sun, 08 Sep 2024   Prob (F-statistic):              0.898\n",
      "Time:                        21:05:35   Log-Likelihood:                -56.391\n",
      "No. Observations:                  23   AIC:                             122.8\n",
      "Df Residuals:                      18   BIC:                             128.5\n",
      "Df Model:                           4                                         \n",
      "Covariance Type:                  HC3                                         \n",
      "=============================================================================================\n",
      "                                coef    std err          z      P>|z|      [0.025      0.975]\n",
      "---------------------------------------------------------------------------------------------\n",
      "Intercept                   -55.8172    201.920     -0.276      0.782    -451.573     339.938\n",
      "OK_predicted                  5.1008     18.470      0.276      0.782     -31.100      41.302\n",
      "np.power(OK_predicted, 2)    -0.1153      0.421     -0.274      0.784      -0.940       0.709\n",
      "global_crisis                 2.6448     24.062      0.110      0.912     -44.516      49.806\n",
      "covid_pandemic               -1.1414      4.353     -0.262      0.793      -9.674       7.391\n",
      "==============================================================================\n",
      "Omnibus:                        0.108   Durbin-Watson:                   2.797\n",
      "Prob(Omnibus):                  0.947   Jarque-Bera (JB):                0.032\n",
      "Skew:                          -0.002   Prob(JB):                        0.984\n",
      "Kurtosis:                       2.816   Cond. No.                     1.10e+05\n",
      "==============================================================================\n",
      "\n",
      "Notes:\n",
      "[1] Standard Errors are heteroscedasticity robust (HC3)\n",
      "[2] The condition number is large, 1.1e+05. This might indicate that there are\n",
      "strong multicollinearity or other numerical problems.\n"
     ]
    }
   ],
   "source": [
    "# dummy variables\n",
    "data_kz['global_crisis'] = np.where((data_kz['Kazakhstan'] >= 2007) & (data_kz['Kazakhstan'] <= 2009), 1, 0)\n",
    "data_kz['covid_pandemic'] = np.where((data_kz['Kazakhstan'] >= 2020) & (data_kz['Kazakhstan'] <= 2022), 1, 0)\n",
    "\n",
    "data_kz['OK_shifted'] = data_kz['K'].shift(2)\n",
    "formula_stage_one_kz_dv = \"OK_shifted ~ GDPC.shift(3) + EMPR.shift(3) + global_crisis + covid_pandemic\"\n",
    "stage_one_model_kz_dv = sm.OLS.from_formula(formula_stage_one_kz_dv, data=data_kz).fit()\n",
    "data_kz['OK_predicted'] = stage_one_model_kz_dv.predict(data_kz)\n",
    "\n",
    "formula_stage_two_kz_dv = \"A ~ OK_predicted + np.power(OK_predicted, 2) + global_crisis + covid_pandemic\"\n",
    "stage_two_model_kz_dv = sm.OLS.from_formula(formula_stage_two_kz_dv, data=data_kz).fit(cov_type=\"HC3\")\n",
    "\n",
    "print(\"Kazakhstan - Stage One:\\n\", stage_one_model_kz_dv.summary())\n",
    "print(\"Kazakhstan - Stage Two:\\n\", stage_two_model_kz_dv.summary())"
   ]
  },
  {
   "cell_type": "markdown",
   "metadata": {},
   "source": [
    "The United States:"
   ]
  },
  {
   "cell_type": "code",
   "execution_count": null,
   "metadata": {},
   "outputs": [],
   "source": [
    "data_us['OK_shifted'] = data_us['K'].shift(2)\n",
    "formula_stage_one_us = \"OK_shifted ~ GDPC.shift(3) + EMPR.shift(3)\"\n",
    "stage_one_model_us = sm.OLS.from_formula(formula_stage_one_us, data=data_us).fit()\n",
    "data_us['OK_predicted'] = stage_one_model_us.predict(data_us)\n",
    "\n",
    "formula_stage_two_us = \"A ~ OK_predicted + np.power(OK_predicted, 2)\"\n",
    "stage_two_model_us = sm.OLS.from_formula(formula_stage_two_us, data=data_us).fit(cov_type=\"HC3\")\n",
    "betas_us = stage_two_model_us.params\n",
    "\n",
    "x = (-betas_us[1])/(betas_us[2]*2)\n",
    "y = betas_us[0]+betas_us[1]*x+betas_us[2]*(x**2)"
   ]
  },
  {
   "cell_type": "code",
   "execution_count": 24,
   "metadata": {},
   "outputs": [],
   "source": [
    "# dummy variables\n",
    "data_us['global_crisis'] = np.where((data_us['US'] >= 2007) & (data_us['US'] <= 2009), 1, 0)\n",
    "data_us['covid_pandemic'] = np.where((data_us['US'] >= 2020) & (data_us['US'] <= 2022), 1, 0)\n",
    "\n",
    "data_us['OK_shifted'] = data_us['K'].shift(2)\n",
    "formula_stage_one_us_dv = \"OK_shifted ~ GDPC.shift(3) + EMPR.shift(3) + global_crisis + covid_pandemic\"\n",
    "stage_one_model_us_dv = sm.OLS.from_formula(formula_stage_one_us_dv, data=data_us).fit()\n",
    "data_us['OK_predicted'] = stage_one_model_us_dv.predict(data_us)\n",
    "\n",
    "formula_stage_two_us_dv = \"A ~ OK_predicted + np.power(OK_predicted, 2) + global_crisis + covid_pandemic\"\n",
    "stage_two_model_us_dv = sm.OLS.from_formula(formula_stage_two_us_dv, data=data_us).fit(cov_type=\"HC3\")\n",
    "\n",
    "# print(\"US - Stage One:\\n\", stage_one_model_us_dv.summary())\n",
    "# print(\"US - Stage Two:\\n\", stage_two_model_us_dv.summary())"
   ]
  },
  {
   "cell_type": "markdown",
   "metadata": {},
   "source": [
    "Germany:"
   ]
  },
  {
   "cell_type": "code",
   "execution_count": null,
   "metadata": {},
   "outputs": [],
   "source": [
    "data_ge['OK_shifted'] = data_ge['K'].shift(2)\n",
    "formula_stage_one_ge = \"OK_shifted ~ GDPC.shift(3) + EMPR.shift(3)\"\n",
    "stage_one_model_ge = sm.OLS.from_formula(formula_stage_one_ge, data=data_ge).fit()\n",
    "data_ge['OK_predicted'] = stage_one_model_ge.predict(data_ge)\n",
    "\n",
    "formula_stage_two_ge = \"A ~ OK_predicted + np.power(OK_predicted, 2)\"\n",
    "stage_two_model_ge = sm.OLS.from_formula(formula_stage_two_ge, data=data_ge).fit(cov_type=\"HC3\")\n",
    "betas_ge = stage_two_model_ge.params\n",
    "\n",
    "\n",
    "x = (-betas_ge[1])/(betas_ge[2]*2)\n",
    "y = betas_ge[0]+betas_ge[1]*x+betas_ge[2]*(x**2)"
   ]
  },
  {
   "cell_type": "code",
   "execution_count": 26,
   "metadata": {},
   "outputs": [],
   "source": [
    "# dummy variables\n",
    "data_ge['global_crisis'] = np.where((data_ge['Germany'] >= 2007) & (data_ge['Germany'] <= 2009), 1, 0)\n",
    "data_ge['covid_pandemic'] = np.where((data_ge['Germany'] >= 2020) & (data_ge['Germany'] <= 2022), 1, 0)\n",
    "\n",
    "data_ge['OK_shifted'] = data_ge['K'].shift(2)\n",
    "formula_stage_one_ge_dv = \"OK_shifted ~ GDPC.shift(3) + EMPR.shift(3) + global_crisis + covid_pandemic\"\n",
    "stage_one_model_ge_dv = sm.OLS.from_formula(formula_stage_one_ge_dv, data=data_ge).fit()\n",
    "data_ge['OK_predicted'] = stage_one_model_ge_dv.predict(data_ge)\n",
    "\n",
    "formula_stage_two_ge_dv = \"A ~ OK_predicted + np.power(OK_predicted, 2) + global_crisis + covid_pandemic\"\n",
    "stage_two_model_ge_dv = sm.OLS.from_formula(formula_stage_two_ge_dv, data=data_ge).fit(cov_type=\"HC3\")\n",
    "\n",
    "# print(\"Germany - Stage One:\\n\", stage_one_model_ge_dv.summary())\n",
    "# print(\"Germany - Stage Two:\\n\", stage_two_model_ge_dv.summary())"
   ]
  },
  {
   "cell_type": "markdown",
   "metadata": {},
   "source": [
    "Canada:"
   ]
  },
  {
   "cell_type": "code",
   "execution_count": 27,
   "metadata": {},
   "outputs": [
    {
     "name": "stderr",
     "output_type": "stream",
     "text": [
      "C:\\Users\\jummd\\AppData\\Local\\Temp\\ipykernel_18160\\4131882476.py:10: FutureWarning: Series.__getitem__ treating keys as positions is deprecated. In a future version, integer keys will always be treated as labels (consistent with DataFrame behavior). To access a value by position, use `ser.iloc[pos]`\n",
      "  x = (-betas_ca[1])/(betas_ca[2]*2)\n",
      "C:\\Users\\jummd\\AppData\\Local\\Temp\\ipykernel_18160\\4131882476.py:11: FutureWarning: Series.__getitem__ treating keys as positions is deprecated. In a future version, integer keys will always be treated as labels (consistent with DataFrame behavior). To access a value by position, use `ser.iloc[pos]`\n",
      "  y = betas_ca[0]+betas_ca[1]*x+betas_ca[2]*(x**2)\n"
     ]
    }
   ],
   "source": [
    "data_ca['OK_shifted'] = data_ca['K'].shift(2)\n",
    "formula_stage_one_ca = \"OK_shifted ~ GDPC.shift(3) + EMPR.shift(3)\"\n",
    "stage_one_model_ca = sm.OLS.from_formula(formula_stage_one_ca, data=data_ca).fit()\n",
    "data_ca['OK_predicted'] = stage_one_model_ca.predict(data_ca)\n",
    "\n",
    "formula_stage_two_ca = \"A ~ OK_predicted + np.power(OK_predicted, 2)\"\n",
    "stage_two_model_ca = sm.OLS.from_formula(formula_stage_two_ca, data=data_ca).fit(cov_type=\"HC3\")\n",
    "betas_ca = stage_two_model_ca.params\n",
    "\n",
    "x = (-betas_ca[1])/(betas_ca[2]*2)\n",
    "y = betas_ca[0]+betas_ca[1]*x+betas_ca[2]*(x**2)"
   ]
  },
  {
   "cell_type": "code",
   "execution_count": 28,
   "metadata": {},
   "outputs": [],
   "source": [
    "# dummy variables\n",
    "data_ca['global_crisis'] = np.where((data_ca['Canada'] >= 2007) & (data_ca['Canada'] <= 2009), 1, 0)\n",
    "data_ca['covid_pandemic'] = np.where((data_ca['Canada'] >= 2020) & (data_ca['Canada'] <= 2022), 1, 0)\n",
    "\n",
    "data_ca['OK_shifted'] = data_ca['K'].shift(2)\n",
    "formula_stage_one_ca_dv = \"OK_shifted ~ GDPC.shift(3) + EMPR.shift(3) + global_crisis + covid_pandemic\"\n",
    "stage_one_model_ca_dv = sm.OLS.from_formula(formula_stage_one_ca_dv, data=data_ca).fit()\n",
    "data_ca['OK_predicted'] = stage_one_model_ca_dv.predict(data_ca)\n",
    "\n",
    "formula_stage_two_ca_dv = \"A ~ OK_predicted + np.power(OK_predicted, 2) + global_crisis + covid_pandemic\"\n",
    "stage_two_model_ca_dv = sm.OLS.from_formula(formula_stage_two_ca_dv, data=data_ca).fit(cov_type=\"HC3\")\n",
    "\n",
    "# print(\"Canada - Stage One:\\n\", stage_one_model_ca_dv.summary())\n",
    "# print(\"Canada - Stage Two:\\n\", stage_two_model_ca_dv.summary())"
   ]
  },
  {
   "cell_type": "markdown",
   "metadata": {},
   "source": [
    "Japan:"
   ]
  },
  {
   "cell_type": "code",
   "execution_count": 29,
   "metadata": {},
   "outputs": [
    {
     "name": "stderr",
     "output_type": "stream",
     "text": [
      "C:\\Users\\jummd\\AppData\\Local\\Temp\\ipykernel_18160\\3519970258.py:10: FutureWarning: Series.__getitem__ treating keys as positions is deprecated. In a future version, integer keys will always be treated as labels (consistent with DataFrame behavior). To access a value by position, use `ser.iloc[pos]`\n",
      "  x = (-betas_j[1])/(betas_j[2]*2)\n",
      "C:\\Users\\jummd\\AppData\\Local\\Temp\\ipykernel_18160\\3519970258.py:11: FutureWarning: Series.__getitem__ treating keys as positions is deprecated. In a future version, integer keys will always be treated as labels (consistent with DataFrame behavior). To access a value by position, use `ser.iloc[pos]`\n",
      "  y = betas_j[0]+betas_j[1]*x+betas_j[2]*(x**2)\n"
     ]
    }
   ],
   "source": [
    "data_j['OK_shifted'] = data_j['K'].shift(2)\n",
    "formula_stage_one_j = \"OK_shifted ~ GDPC.shift(3) + EMPR.shift(3)\"\n",
    "stage_one_model_j = sm.OLS.from_formula(formula_stage_one_j, data=data_j).fit()\n",
    "data_j['OK_predicted'] = stage_one_model_j.predict(data_j)\n",
    "\n",
    "formula_stage_two_j = \"A ~ OK_predicted + np.power(OK_predicted, 2)\"\n",
    "stage_two_model_j = sm.OLS.from_formula(formula_stage_two_j, data=data_j).fit(cov_type=\"HC3\")\n",
    "betas_j = stage_two_model_j.params\n",
    "\n",
    "x = (-betas_j[1])/(betas_j[2]*2)\n",
    "y = betas_j[0]+betas_j[1]*x+betas_j[2]*(x**2)"
   ]
  },
  {
   "cell_type": "code",
   "execution_count": 30,
   "metadata": {},
   "outputs": [],
   "source": [
    "# dummy variables\n",
    "data_j['global_crisis'] = np.where((data_j['Japan'] >= 2007) & (data_j['Japan'] <= 2009), 1, 0)\n",
    "data_j['covid_pandemic'] = np.where((data_j['Japan'] >= 2020) & (data_j['Japan'] <= 2022), 1, 0)\n",
    "\n",
    "data_j['OK_shifted'] = data_j['K'].shift(2)\n",
    "formula_stage_one_j_dv = \"OK_shifted ~ GDPC.shift(3) + EMPR.shift(3) + global_crisis + covid_pandemic\"\n",
    "stage_one_model_j_dv = sm.OLS.from_formula(formula_stage_one_j_dv, data=data_j).fit()\n",
    "data_j['OK_predicted'] = stage_one_model_j_dv.predict(data_j)\n",
    "\n",
    "formula_stage_two_j_dv = \"A ~ OK_predicted + np.power(OK_predicted, 2) + global_crisis + covid_pandemic\"\n",
    "stage_two_model_j_dv = sm.OLS.from_formula(formula_stage_two_j_dv, data=data_j).fit(cov_type=\"HC3\")\n",
    "\n",
    "# print(\"Japan - Stage One:\\n\", stage_one_model_j_dv.summary())\n",
    "# print(\"Japan - Stage Two:\\n\", stage_two_model_j_dv.summary())"
   ]
  },
  {
   "cell_type": "markdown",
   "metadata": {},
   "source": [
    "Ireland:"
   ]
  },
  {
   "cell_type": "code",
   "execution_count": 31,
   "metadata": {},
   "outputs": [
    {
     "name": "stderr",
     "output_type": "stream",
     "text": [
      "C:\\Users\\jummd\\AppData\\Local\\Temp\\ipykernel_18160\\2222721285.py:10: FutureWarning: Series.__getitem__ treating keys as positions is deprecated. In a future version, integer keys will always be treated as labels (consistent with DataFrame behavior). To access a value by position, use `ser.iloc[pos]`\n",
      "  x = (-betas_ir[1])/(betas_ir[2]*2)\n",
      "C:\\Users\\jummd\\AppData\\Local\\Temp\\ipykernel_18160\\2222721285.py:11: FutureWarning: Series.__getitem__ treating keys as positions is deprecated. In a future version, integer keys will always be treated as labels (consistent with DataFrame behavior). To access a value by position, use `ser.iloc[pos]`\n",
      "  y = betas_ir[0]+betas_ir[1]*x+betas_ir[2]*(x**2)\n"
     ]
    }
   ],
   "source": [
    "data_ir['OK_shifted'] = data_ir['K'].shift(2)\n",
    "formula_stage_one_ir = \"OK_shifted ~ GDPC.shift(3) + EMPR.shift(3)\"\n",
    "stage_one_model_ir = sm.OLS.from_formula(formula_stage_one_ir, data=data_ir).fit()\n",
    "data_ir['OK_predicted'] = stage_one_model_ir.predict(data_ir)\n",
    "\n",
    "formula_stage_two_ir = \"A ~ OK_predicted + np.power(OK_predicted, 2)\"\n",
    "stage_two_model_ir = sm.OLS.from_formula(formula_stage_two_ir, data=data_ir).fit(cov_type=\"HC3\")\n",
    "betas_ir = stage_two_model_ir.params\n",
    "\n",
    "x = (-betas_ir[1])/(betas_ir[2]*2)\n",
    "y = betas_ir[0]+betas_ir[1]*x+betas_ir[2]*(x**2)"
   ]
  },
  {
   "cell_type": "code",
   "execution_count": 33,
   "metadata": {},
   "outputs": [],
   "source": [
    "# dummy variables\n",
    "data_ir['global_crisis'] = np.where((data_ir['Ireland'] >= 2007) & (data_ir['Ireland'] <= 2009), 1, 0)\n",
    "data_ir['covid_pandemic'] = np.where((data_ir['Ireland'] >= 2020) & (data_ir['Ireland'] <= 2022), 1, 0)\n",
    "\n",
    "data_ir['OK_shifted'] = data_ir['K'].shift(2)\n",
    "formula_stage_one_ir_dv = \"OK_shifted ~ GDPC.shift(3) + EMPR.shift(3) + global_crisis + covid_pandemic\"\n",
    "stage_one_model_ir_dv = sm.OLS.from_formula(formula_stage_one_ir_dv, data=data_ir).fit()\n",
    "data_ir['OK_predicted'] = stage_one_model_ir_dv.predict(data_ir)\n",
    "\n",
    "formula_stage_two_ir_dv = \"A ~ OK_predicted + np.power(OK_predicted, 2) + global_crisis + covid_pandemic\"\n",
    "stage_two_model_ir_dv = sm.OLS.from_formula(formula_stage_two_ir_dv, data=data_ir).fit(cov_type=\"HC3\")\n",
    "\n",
    "# print(\"Ireland - Stage One:\\n\", stage_one_model_ir_dv.summary())\n",
    "# print(\"Ireland - Stage Two:\\n\", stage_two_model_ir_dv.summary())"
   ]
  },
  {
   "cell_type": "markdown",
   "metadata": {},
   "source": [
    "China:"
   ]
  },
  {
   "cell_type": "code",
   "execution_count": 34,
   "metadata": {},
   "outputs": [
    {
     "name": "stderr",
     "output_type": "stream",
     "text": [
      "C:\\Users\\jummd\\AppData\\Local\\Temp\\ipykernel_18160\\692141442.py:10: FutureWarning: Series.__getitem__ treating keys as positions is deprecated. In a future version, integer keys will always be treated as labels (consistent with DataFrame behavior). To access a value by position, use `ser.iloc[pos]`\n",
      "  x = (-betas_ch[1])/(betas_ch[2]*2)\n",
      "C:\\Users\\jummd\\AppData\\Local\\Temp\\ipykernel_18160\\692141442.py:11: FutureWarning: Series.__getitem__ treating keys as positions is deprecated. In a future version, integer keys will always be treated as labels (consistent with DataFrame behavior). To access a value by position, use `ser.iloc[pos]`\n",
      "  y = betas_ch[0]+betas_ch[1]*x+betas_ch[2]*(x**2)\n"
     ]
    }
   ],
   "source": [
    "data_ch['OK_shifted'] = data_ch['K'].shift(2)\n",
    "formula_stage_one_ch = \"OK_shifted ~ GDPC.shift(3) + EMPR.shift(3)\"\n",
    "stage_one_model_ch = sm.OLS.from_formula(formula_stage_one_ch, data=data_ch).fit()\n",
    "data_ch['OK_predicted'] = stage_one_model_ch.predict(data_ch)\n",
    "\n",
    "formula_stage_two_ch = \"A ~ OK_predicted + np.power(OK_predicted, 2)\"\n",
    "stage_two_model_ch = sm.OLS.from_formula(formula_stage_two_ch, data=data_ch).fit(cov_type=\"HC3\")\n",
    "betas_ch = stage_two_model_ch.params\n",
    "\n",
    "x = (-betas_ch[1])/(betas_ch[2]*2)\n",
    "y = betas_ch[0]+betas_ch[1]*x+betas_ch[2]*(x**2)"
   ]
  },
  {
   "cell_type": "code",
   "execution_count": 35,
   "metadata": {},
   "outputs": [],
   "source": [
    "# dummy variables\n",
    "data_ch['global_crisis'] = np.where((data_ch['China'] >= 2007) & (data_ch['China'] <= 2009), 1, 0)\n",
    "data_ch['covid_pandemic'] = np.where((data_ch['China'] >= 2020) & (data_ch['China'] <= 2022), 1, 0)\n",
    "\n",
    "data_ch['OK_shifted'] = data_ch['K'].shift(2)\n",
    "formula_stage_one_ch_dv = \"OK_shifted ~ GDPC.shift(3) + EMPR.shift(3) + global_crisis + covid_pandemic\"\n",
    "stage_one_model_ch_dv = sm.OLS.from_formula(formula_stage_one_ch_dv, data=data_ch).fit()\n",
    "data_ch['OK_predicted'] = stage_one_model_ch_dv.predict(data_ch)\n",
    "\n",
    "formula_stage_two_ch_dv = \"A ~ OK_predicted + np.power(OK_predicted, 2) + global_crisis + covid_pandemic\"\n",
    "stage_two_model_ch_dv = sm.OLS.from_formula(formula_stage_two_ch_dv, data=data_ch).fit(cov_type=\"HC3\")\n",
    "\n",
    "# print(\"China - Stage One:\\n\", stage_one_model_ch_dv.summary())\n",
    "# print(\"China - Stage Two:\\n\", stage_two_model_ch_dv.summary())"
   ]
  },
  {
   "cell_type": "code",
   "execution_count": null,
   "metadata": {},
   "outputs": [],
   "source": [
    "combined_data = pd.concat([\n",
    "    data_us[['OK_predicted', 'A']].rename(columns={'US_OK_shifted': 'OK_shifted'}),\n",
    "    data_ir[['OK_predicted', 'A']].rename(columns={'IR_OK_shifted': 'OK_shifted'}),\n",
    "    data_j[['OK_predicted', 'A']].rename(columns={'J_OK_shifted': 'OK_shifted'}),\n",
    "    data_ch[['OK_predicted', 'A']].rename(columns={'CH_OK_shifted': 'OK_shifted'}),\n",
    "    data_kz[['OK_predicted', 'A']].rename(columns={'KZ_OK_shifted': 'OK_shifted'}),\n",
    "    data_ca[['OK_predicted', 'A']].rename(columns={'CA_OK_shifted': 'OK_shifted'}),\n",
    "    data_ge[['OK_predicted', 'A']].rename(columns={'GE_OK_shifted': 'OK_shifted'}),\n",
    "], ignore_index=True)\n",
    "\n",
    "combined_data = combined_data.dropna()\n",
    "\n",
    "formula_stage_two = \"A ~ OK_predicted + np.power(OK_predicted, 2)\"\n",
    "stage_two_model_combined = sm.OLS.from_formula(formula_stage_two, data=combined_data).fit()\n",
    "betas_combined = stage_two_model_combined.params\n",
    "\n",
    "x = (-betas_combined[1])/(betas_combined[2]*2)\n",
    "y = betas_combined[0]+betas_combined[1]*x+betas_combined[2]*(x**2)\n",
    "\n",
    "x = np.linspace(combined_data['OK_predicted'].min(), combined_data['OK_predicted'].max(), 400)\n",
    "y_combined = betas_combined[0] + betas_combined[1] * x + betas_combined[2] * np.power(x, 2)"
   ]
  },
  {
   "cell_type": "code",
   "execution_count": null,
   "metadata": {},
   "outputs": [],
   "source": [
    "plt.style.use('ggplot')\n",
    "plt.figure(figsize=(10, 6))\n",
    "plt.scatter(data_ch.iloc[2:]['OK_shifted'], data_ch.iloc[2:]['A'], label='China')\n",
    "plt.scatter(data_j.iloc[2:]['OK_shifted'], data_j.iloc[2:]['A'], label='Japan')\n",
    "plt.scatter(data_ir.iloc[2:]['OK_shifted'], data_ir.iloc[2:]['A'], label='Ireland')\n",
    "plt.scatter(data_us.iloc[2:]['OK_shifted'], data_us.iloc[2:]['A'], label='US')\n",
    "plt.scatter(data_kz.iloc[2:]['OK_shifted'], data_kz.iloc[2:]['A'], label='Kazakhstan')\n",
    "plt.scatter(data_ca.iloc[2:]['OK_shifted'], data_ca.iloc[2:]['A'], label='Canada')\n",
    "plt.scatter(data_ge.iloc[2:]['OK_shifted'], data_ca.iloc[2:]['A'], label='Germany')\n",
    "plt.plot(x, y_combined, color='#2B2F42', label='Quadratic')\n",
    "plt.xlabel('OK(t-2)')\n",
    "plt.ylabel('RGLP(t)')\n",
    "plt.title('RGLP to OK graph all countries')\n",
    "plt.grid(True)\n",
    "plt.legend()\n",
    "plt.show()"
   ]
  },
  {
   "cell_type": "code",
   "execution_count": null,
   "metadata": {},
   "outputs": [],
   "source": [
    "import matplotlib.pyplot as plt\n",
    "import numpy as np\n",
    "\n",
    "intercept_ca, gerd_predicted_ca, gerd_predicted_sq_ca = betas_ca[0], betas_ca[1], betas_ca[2]\n",
    "intercept_ir, gerd_predicted_ir, gerd_predicted_sq_ir = betas_ir[0], betas_ir[1], betas_ir[2]\n",
    "intercept_j, gerd_predicted_j, gerd_predicted_sq_j = betas_j[0], betas_j[1], betas_j[2]\n",
    "intercept_ch, gerd_predicted_ch, gerd_predicted_sq_ch = betas_ch[0], betas_ch[1], betas_ch[2]\n",
    "intercept_us, gerd_predicted_us, gerd_predicted_sq_us = betas_us[0], betas_us[1], betas_us[2]\n",
    "intercept_ge, gerd_predicted_ge, gerd_predicted_sq_ge = betas_ge[0], betas_ge[1], betas_ge[2]\n",
    "\n",
    "betas_list = [\n",
    "    [-intercept_ca+2, -gerd_predicted_ca, -gerd_predicted_sq_ca], \n",
    "    [-intercept_ir+7, -gerd_predicted_ir, -gerd_predicted_sq_ir],\n",
    "    [-intercept_j+2, -gerd_predicted_j, -gerd_predicted_sq_j],\n",
    "    [intercept_ch, gerd_predicted_ch, gerd_predicted_sq_ch],\n",
    "    [-intercept_us+2, -gerd_predicted_us, -gerd_predicted_sq_us],\n",
    "    [intercept_ge, gerd_predicted_ge, gerd_predicted_sq_ge],\n",
    "]\n",
    "\n",
    "dataframes = [data_ca, data_ir, data_j, data_ch, data_us, data_ge]\n",
    "labels = ['Canada', 'Ireland', 'Japan', 'China', 'US', 'Germany']\n",
    "\n",
    "plt.style.use('ggplot')\n",
    "fig, axs = plt.subplots(3, 2, figsize=(15, 18))\n",
    "\n",
    "x = np.linspace(0, 40, 400)\n",
    "\n",
    "for i, (df, label, betas) in enumerate(zip(dataframes, labels, betas_list)):\n",
    "    row = i // 2\n",
    "    col = i % 2\n",
    "    ax = axs[row, col]\n",
    "    intercept = betas[0]\n",
    "    gerd_predicted = betas[1]\n",
    "    gerd_predicted_sq = betas[2]\n",
    "    y = intercept + gerd_predicted*x + gerd_predicted_sq*np.power(x, 2)\n",
    "    \n",
    "    ax.scatter(df.iloc[2:]['OK_predicted'], df.iloc[2:]['A'], label=label)\n",
    "    ax.plot(x, y, color='#2B2F42', label='Polynomial Fit')\n",
    "    ax.set_xlabel('GFCF(t-2)')\n",
    "    ax.set_ylabel('RGLP(t)')\n",
    "    ax.set_title(f'RGLP to GFCF graph {label}')\n",
    "    ax.grid(True)\n",
    "    ax.legend()\n",
    "\n",
    "plt.tight_layout()\n",
    "plt.show()"
   ]
  }
 ],
 "metadata": {
  "kernelspec": {
   "display_name": "base",
   "language": "python",
   "name": "python3"
  },
  "language_info": {
   "codemirror_mode": {
    "name": "ipython",
    "version": 3
   },
   "file_extension": ".py",
   "mimetype": "text/x-python",
   "name": "python",
   "nbconvert_exporter": "python",
   "pygments_lexer": "ipython3",
   "version": "3.11.7"
  }
 },
 "nbformat": 4,
 "nbformat_minor": 2
}
