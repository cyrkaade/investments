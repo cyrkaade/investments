{
 "cells": [
  {
   "cell_type": "code",
   "execution_count": null,
   "metadata": {},
   "outputs": [],
   "source": [
    "import pandas as pd\n",
    "import numpy as np\n",
    "from scipy import stats\n",
    "import statsmodels.api as sm\n",
    "import statsmodels.formula.api as smf\n",
    "import matplotlib.pyplot as plt\n",
    "\n",
    "data_ch = pd.read_excel('China.xlsx')\n",
    "data_j = pd.read_excel('Japan.xlsx')\n",
    "data_us = pd.read_excel('US.xlsx')\n",
    "data_ir = pd.read_excel('Ireland.xlsx')\n",
    "data_ca = pd.read_excel('Kanada.xlsx')\n",
    "data_kz = pd.read_excel('all.xlsx')\n",
    "data_ge = pd.read_excel('ger.xlsx')\n",
    "\n",
    "data_ch['GERD_shifted'] = data_ch['GERD'].shift(2)\n",
    "formula_stage_one = \"GERD_shifted ~ GDPC.shift(3) + EMPIRE.shift(3)\"\n",
    "stage_one_model = sm.OLS.from_formula(formula_stage_one, data=data_ch).fit()\n",
    "data_ch['GERD_predicted'] = stage_one_model.predict(data_ch)\n",
    "\n",
    "formula_stage_two = \"RGLP ~ GERD_predicted + np.power(GERD_predicted, 2)\"\n",
    "stage_two_model = sm.OLS.from_formula(formula_stage_two, data=data_ch).fit(cov_type='HC3')\n",
    "betas_ch = stage_two_model.params\n",
    "\n",
    "intercept_ch = betas_ch[0]\n",
    "gerd_predicted_ch = betas_ch[1]\n",
    "gerd_predicted_sq_ch = betas_ch[2]\n",
    "\n",
    "x = (-betas_ch[1])/(betas_ch[2]*2)\n",
    "y = betas_ch[0]+betas_ch[1]*x+betas_ch[2]*(x**2)"
   ]
  },
  {
   "cell_type": "code",
   "execution_count": null,
   "metadata": {},
   "outputs": [],
   "source": [
    "data_ch['global_crisis'] = np.where((data_ch['China'] >= 2007) & (data_ch['China'] <= 2009), 1, 0)\n",
    "data_ch['covid_pandemic'] = np.where((data_ch['China'] >= 2020) & (data_ch['China'] <= 2022), 1, 0)\n",
    "\n",
    "formula_stage_one = \"GERD_shifted ~ GDPC.shift(3) + EMPIRE.shift(3) + global_crisis + covid_pandemic\"\n",
    "stage_one_model = sm.OLS.from_formula(formula_stage_one, data=data_ch).fit()\n",
    "data_ch['GERD_predicted'] = stage_one_model.predict(data_ch)\n",
    "\n",
    "# dummy variables\n",
    "formula_stage_two = \"RGLP ~ GERD_predicted + np.power(GERD_predicted, 2) + global_crisis + covid_pandemic\"\n",
    "stage_two_model = sm.OLS.from_formula(formula_stage_two, data=data_ch).fit(cov_type='HC3')\n",
    "\n",
    "# print(stage_two_model.summary())"
   ]
  },
  {
   "cell_type": "markdown",
   "metadata": {},
   "source": [
    "Japan:"
   ]
  },
  {
   "cell_type": "code",
   "execution_count": null,
   "metadata": {},
   "outputs": [],
   "source": [
    "data_j['GERD_shifted'] = data_j['GERD'].shift(2)\n",
    "formula_stage_one = \"GERD_shifted ~ GDPC.shift(3) + EMPIRE.shift(3)\"\n",
    "stage_one_model = sm.OLS.from_formula(formula_stage_one, data=data_j).fit()\n",
    "data_j['GERD_predicted'] = stage_one_model.predict(data_j)\n",
    "\n",
    "formula_stage_two = \"RGLP ~ GERD_predicted + np.power(GERD_predicted, 2)\"\n",
    "stage_two_model = sm.OLS.from_formula(formula_stage_two, data=data_j).fit()\n",
    "betas_j = stage_two_model.params\n",
    "betas1 = stage_one_model.params\n",
    "\n",
    "x = (-betas_j[1])/(betas_j[2]*2)\n",
    "y = betas_j[0]+betas_j[1]*x+betas_j[2]*(x**2)"
   ]
  },
  {
   "cell_type": "code",
   "execution_count": null,
   "metadata": {},
   "outputs": [],
   "source": [
    "data_j['global_crisis'] = np.where((data_j['Japan'] >= 2007) & (data_j['Japan'] <= 2009), 1, 0)\n",
    "data_j['covid_pandemic'] = np.where((data_j['Japan'] >= 2020) & (data_j['Japan'] <= 2022), 1, 0)\n",
    "\n",
    "formula_stage_one = \"GERD_shifted ~ GDPC.shift(3) + EMPIRE.shift(3) + global_crisis + covid_pandemic\"\n",
    "stage_one_model = sm.OLS.from_formula(formula_stage_one, data=data_j).fit()\n",
    "data_j['GERD_predicted'] = stage_one_model.predict(data_j)\n",
    "\n",
    "# dummy variables\n",
    "formula_stage_two = \"RGLP ~ GERD_predicted + np.power(GERD_predicted, 2) + global_crisis + covid_pandemic\"\n",
    "stage_two_model = sm.OLS.from_formula(formula_stage_two, data=data_j).fit(cov_type='HC3')\n",
    "\n",
    "# print(stage_two_model.summary())"
   ]
  },
  {
   "cell_type": "markdown",
   "metadata": {},
   "source": [
    "Ireland:"
   ]
  },
  {
   "cell_type": "code",
   "execution_count": null,
   "metadata": {},
   "outputs": [],
   "source": [
    "data_ir['GERD_shifted'] = data_ir['GERD'].shift(2)\n",
    "formula_stage_one = \"GERD_shifted ~ GDPC.shift(3) + EMPIRE.shift(3)\"\n",
    "stage_one_model = sm.OLS.from_formula(formula_stage_one, data=data_ir).fit()\n",
    "data_ir['GERD_predicted'] = stage_one_model.predict(data_ir)\n",
    "\n",
    "formula_stage_two = \"RGLP ~ GERD_predicted + np.power(GERD_predicted, 2)\"\n",
    "stage_two_model = sm.OLS.from_formula(formula_stage_two, data=data_ir).fit()\n",
    "betas_ir = stage_two_model.params\n",
    "\n",
    "x = (-betas_ir[1])/(betas_ir[2]*2)\n",
    "y = betas_ir[0]+betas_ir[1]*x+betas_ir[2]*(x**2)"
   ]
  },
  {
   "cell_type": "code",
   "execution_count": null,
   "metadata": {},
   "outputs": [],
   "source": [
    "data_ir['global_crisis'] = np.where((data_ir['Ireland'] >= 2007) & (data_ir['Ireland'] <= 2009), 1, 0)\n",
    "data_ir['covid_pandemic'] = np.where((data_ir['Ireland'] >= 2020) & (data_ir['Ireland'] <= 2022), 1, 0)\n",
    "\n",
    "formula_stage_one = \"GERD_shifted ~ GDPC.shift(3) + EMPIRE.shift(3) + global_crisis + covid_pandemic\"\n",
    "stage_one_model = sm.OLS.from_formula(formula_stage_one, data=data_ir).fit()\n",
    "data_ir['GERD_predicted'] = stage_one_model.predict(data_ir)\n",
    "\n",
    "# dummy variables\n",
    "formula_stage_two = \"RGLP ~ GERD_predicted + np.power(GERD_predicted, 2) + global_crisis + covid_pandemic\"\n",
    "stage_two_model = sm.OLS.from_formula(formula_stage_two, data=data_ir).fit(cov_type='HC3')\n",
    "\n",
    "# print(stage_two_model.summary())"
   ]
  },
  {
   "cell_type": "markdown",
   "metadata": {},
   "source": [
    "Germany"
   ]
  },
  {
   "cell_type": "code",
   "execution_count": null,
   "metadata": {},
   "outputs": [],
   "source": [
    "data_ge['GERD_shifted'] = data_ge['GERD'].shift(2)\n",
    "formula_stage_one = \"GERD_shifted ~ GDPC.shift(3) + EMPR.shift(3)\"\n",
    "stage_one_model = sm.OLS.from_formula(formula_stage_one, data=data_ge).fit()\n",
    "data_ge['GERD_predicted'] = stage_one_model.predict(data_ge)\n",
    "\n",
    "formula_stage_two = \"RGLP ~ GERD_predicted + np.power(GERD_predicted, 2)\"\n",
    "stage_two_model = sm.OLS.from_formula(formula_stage_two, data=data_ge).fit()\n",
    "betas_ge = stage_two_model.params\n",
    "\n",
    "x = (-betas_ge[1])/(betas_ge[2]*2)\n",
    "y = betas_ge[0]+betas_ge[1]*x+betas_ge[2]*(x**2)"
   ]
  },
  {
   "cell_type": "code",
   "execution_count": null,
   "metadata": {},
   "outputs": [],
   "source": [
    "data_ge['global_crisis'] = np.where((data_ge['Germany'] >= 2007) & (data_ge['Germany'] <= 2009), 1, 0)\n",
    "data_ge['covid_pandemic'] = np.where((data_ge['Germany'] >= 2020) & (data_ge['Germany'] <= 2022), 1, 0)\n",
    "\n",
    "formula_stage_one = \"GERD_shifted ~ GDPC.shift(3) + EMPR.shift(3) + global_crisis + covid_pandemic\"\n",
    "stage_one_model = sm.OLS.from_formula(formula_stage_one, data=data_ge).fit()\n",
    "data_ge['GERD_predicted'] = stage_one_model.predict(data_ge)\n",
    "\n",
    "# dummy variables\n",
    "formula_stage_two = \"RGLP ~ GERD_predicted + np.power(GERD_predicted, 2) + global_crisis + covid_pandemic\"\n",
    "stage_two_model = sm.OLS.from_formula(formula_stage_two, data=data_ge).fit(cov_type='HC3')\n",
    "\n",
    "# print(stage_two_model.summary())"
   ]
  },
  {
   "cell_type": "markdown",
   "metadata": {},
   "source": [
    "The United States:"
   ]
  },
  {
   "cell_type": "code",
   "execution_count": null,
   "metadata": {},
   "outputs": [],
   "source": [
    "data_us['GERD_shifted'] = data_us['GERD'].shift(2)\n",
    "formula_stage_one = \"GERD_shifted ~ GDPC.shift(3) + EMPIRE.shift(3)\"\n",
    "stage_one_model = sm.OLS.from_formula(formula_stage_one, data=data_us).fit()\n",
    "data_us['GERD_predicted'] = stage_one_model.predict(data_us)\n",
    "\n",
    "formula_stage_two = \"RGLP ~ GERD_predicted + np.power(GERD_predicted, 2)\"\n",
    "stage_two_model = sm.OLS.from_formula(formula_stage_two, data=data_us).fit()\n",
    "betas_us = stage_two_model.params\n",
    "\n",
    "x = (-betas_us[1])/(betas_us[2]*2)\n",
    "y = betas_us[0]+betas_us[1]*x+betas_us[2]*(x**2)"
   ]
  },
  {
   "cell_type": "code",
   "execution_count": null,
   "metadata": {},
   "outputs": [],
   "source": [
    "data_us['global_crisis'] = np.where((data_us['US'] >= 2007) & (data_us['US'] <= 2009), 1, 0)\n",
    "data_us['covid_pandemic'] = np.where((data_us['US'] >= 2020) & (data_us['US'] <= 2022), 1, 0)\n",
    "\n",
    "formula_stage_one = \"GERD_shifted ~ GDPC.shift(3) + EMPIRE.shift(3) + global_crisis + covid_pandemic\"\n",
    "stage_one_model = sm.OLS.from_formula(formula_stage_one, data=data_us).fit()\n",
    "data_us['GERD_predicted'] = stage_one_model.predict(data_us)\n",
    "\n",
    "# dummy variables\n",
    "formula_stage_two = \"RGLP ~ GERD_predicted + np.power(GERD_predicted, 2) + global_crisis + covid_pandemic\"\n",
    "stage_two_model = sm.OLS.from_formula(formula_stage_two, data=data_us).fit(cov_type='HC3')\n",
    "\n",
    "# print(stage_two_model.summary())"
   ]
  },
  {
   "cell_type": "markdown",
   "metadata": {},
   "source": [
    "Canada:"
   ]
  },
  {
   "cell_type": "code",
   "execution_count": null,
   "metadata": {},
   "outputs": [],
   "source": [
    "data_ca['GERD_shifted'] = data_ca['GERD'].shift(2)\n",
    "formula_stage_one = \"GERD_shifted ~ GDPC.shift(3) + EMPIRE.shift(3)\"\n",
    "stage_one_model = sm.OLS.from_formula(formula_stage_one, data=data_ca).fit()\n",
    "data_ca['GERD_predicted'] = stage_one_model.predict(data_ca)\n",
    "\n",
    "formula_stage_two = \"RGLP ~ GERD_predicted + np.power(GERD_predicted, 2)\"\n",
    "stage_two_model = sm.OLS.from_formula(formula_stage_two, data=data_ca).fit()\n",
    "betas_ca = stage_two_model.params\n",
    "\n",
    "x = (-betas_ca[1])/(betas_ca[2]*2)\n",
    "y = betas_ca[0]+betas_ca[1]*x+betas_ca[2]*(x**2)"
   ]
  },
  {
   "cell_type": "code",
   "execution_count": null,
   "metadata": {},
   "outputs": [],
   "source": [
    "data_ca['global_crisis'] = np.where((data_ca['Canada'] >= 2007) & (data_ca['Canada'] <= 2009), 1, 0)\n",
    "data_ca['covid_pandemic'] = np.where((data_ca['Canada'] >= 2020) & (data_ca['Canada'] <= 2022), 1, 0)\n",
    "\n",
    "formula_stage_one = \"GERD_shifted ~ GDPC.shift(3) + EMPIRE.shift(3) + global_crisis + covid_pandemic\"\n",
    "stage_one_model = sm.OLS.from_formula(formula_stage_one, data=data_ca).fit()\n",
    "data_ca['GERD_predicted'] = stage_one_model.predict(data_ca)\n",
    "\n",
    "# dummy variables\n",
    "formula_stage_two = \"RGLP ~ GERD_predicted + np.power(GERD_predicted, 2) + global_crisis + covid_pandemic\"\n",
    "stage_two_model = sm.OLS.from_formula(formula_stage_two, data=data_ca).fit(cov_type='HC3')\n",
    "\n",
    "# print(stage_two_model.summary())"
   ]
  },
  {
   "cell_type": "markdown",
   "metadata": {},
   "source": [
    "Kazakhstan:"
   ]
  },
  {
   "cell_type": "code",
   "execution_count": null,
   "metadata": {},
   "outputs": [],
   "source": [
    "data_kz['RGLP'] = (data_kz['A'] - data_kz['A'].shift(1)) / data_kz['A'].shift(1) * 100\n",
    "\n",
    "data_kz['GERD_shifted'] = data_kz['GERD'].shift(2)\n",
    "formula_stage_one = \"GERD_shifted ~ GDPC.shift(3) + EMPR.shift(3)\"\n",
    "stage_one_model = sm.OLS.from_formula(formula_stage_one, data=data_kz).fit()\n",
    "data_kz['GERD_predicted'] = stage_one_model.predict(data_kz)\n",
    "print(data_kz)\n",
    "\n",
    "formula_stage_two = \"RGLP ~ GERD_predicted + np.power(GERD_predicted, 2)\"\n",
    "stage_two_model = sm.OLS.from_formula(formula_stage_two, data=data_kz).fit()\n",
    "betas = stage_two_model.params\n",
    "\n",
    "x = (-betas[1])/(betas[2]*2)\n",
    "y = betas[0]+betas[1]*x+betas[2]*(x**2)"
   ]
  },
  {
   "cell_type": "code",
   "execution_count": null,
   "metadata": {},
   "outputs": [],
   "source": [
    "data_kz['global_crisis'] = np.where((data_kz['Kazakhstan'] >= 2007) & (data_kz['Kazakhstan'] <= 2009), 1, 0)\n",
    "data_kz['covid_pandemic'] = np.where((data_kz['Kazakhstan'] >= 2020) & (data_kz['Kazakhstan'] <= 2022), 1, 0)\n",
    "\n",
    "formula_stage_one = \"GERD_shifted ~ GDPC.shift(3) + EMPR.shift(3) + global_crisis + covid_pandemic\"\n",
    "stage_one_model = sm.OLS.from_formula(formula_stage_one, data=data_kz).fit()\n",
    "data_kz['GERD_predicted'] = stage_one_model.predict(data_kz)\n",
    "\n",
    "# dummy variables\n",
    "formula_stage_two = \"RGLP ~ GERD_predicted + np.power(GERD_predicted, 2) + global_crisis + covid_pandemic\"\n",
    "stage_two_model = sm.OLS.from_formula(formula_stage_two, data=data_kz).fit(cov_type='HC3')\n",
    "\n",
    "# print(stage_two_model.summary())"
   ]
  },
  {
   "cell_type": "code",
   "execution_count": 30,
   "metadata": {},
   "outputs": [],
   "source": [
    "# import seaborn as sns\n",
    "# import matplotlib.pyplot as plt\n",
    "\n",
    "# mean_values = data_kz.groupby(['asian_crisis', 'global_crisis', 'covid_pandemic'])['A'].mean().reset_index()\n",
    "\n",
    "# plt.figure(figsize=(10, 6))\n",
    "# sns.lineplot(x=mean_values.index, y=mean_values['A'], marker=\"o\")\n",
    "\n",
    "# plt.title('Average A during Crisis and Non-Crisis Periods (Kazakhstan)')\n",
    "# plt.xlabel('Crisis Periods')\n",
    "# plt.ylabel('Average A')\n",
    "# plt.grid(True)\n",
    "# plt.show()"
   ]
  },
  {
   "cell_type": "code",
   "execution_count": null,
   "metadata": {},
   "outputs": [],
   "source": [
    "# coeffs = stage_two_model.params[['asian_crisis', 'global_crisis', 'covid_pandemic']]\n",
    "\n",
    "# plt.figure(figsize=(8, 5))\n",
    "# coeffs.plot(kind='bar', color='skyblue')\n",
    "# plt.title('Impact of Crises on A (Kazakhstan)')\n",
    "# plt.ylabel('Coefficient Value')\n",
    "# plt.grid(True)\n",
    "# plt.show()"
   ]
  },
  {
   "cell_type": "markdown",
   "metadata": {},
   "source": [
    "Combined:"
   ]
  },
  {
   "cell_type": "code",
   "execution_count": 10,
   "metadata": {},
   "outputs": [],
   "source": [
    "combined_data = pd.concat([\n",
    "    data_us[['GERD_predicted', 'RGLP']].rename(columns={'US_GERD_shifted': 'GERD_shifted'}),\n",
    "    data_ir[['GERD_predicted', 'RGLP']].rename(columns={'IR_GERD_shifted': 'GERD_shifted'}),\n",
    "    data_j[['GERD_predicted', 'RGLP']].rename(columns={'J_GERD_shifted': 'GERD_shifted'}),\n",
    "    data_ch[['GERD_predicted', 'RGLP']].rename(columns={'CH_GERD_shifted': 'GERD_shifted'}),\n",
    "    data_kz[['GERD_predicted', 'RGLP']].rename(columns={'KZ_GERD_shifted': 'GERD_shifted'}),\n",
    "    data_ca[['GERD_predicted', 'RGLP']].rename(columns={'CA_GERD_shifted': 'GERD_shifted'}),\n",
    "    data_ge[['GERD_predicted', 'RGLP']].rename(columns={'CA_GERD_shifted': 'GERD_shifted'}),\n",
    "], ignore_index=True)\n",
    "\n",
    "combined_data = combined_data.dropna()\n",
    "\n",
    "formula_stage_two = \"RGLP ~ GERD_predicted + np.power(GERD_predicted, 2)\"\n",
    "stage_two_model_combined = sm.OLS.from_formula(formula_stage_two, data=combined_data).fit()\n",
    "betas_combined = stage_two_model_combined.params"
   ]
  },
  {
   "cell_type": "code",
   "execution_count": null,
   "metadata": {},
   "outputs": [],
   "source": [
    "x = np.linspace(combined_data['GERD_predicted'].min(), combined_data['GERD_predicted'].max(), 400)\n",
    "y_combined = betas_combined[0] + betas_combined[1] * x + betas_combined[2] * np.power(x, 2)\n",
    "\n",
    "plt.style.use('ggplot')\n",
    "plt.figure(figsize=(10, 6))\n",
    "plt.scatter(data_ch.iloc[2:]['GERD_shifted'], data_ch.iloc[2:]['RGLP'], label='China')\n",
    "plt.scatter(data_j.iloc[2:]['GERD_shifted'], data_j.iloc[2:]['RGLP'], label='Japan')\n",
    "plt.scatter(data_ir.iloc[2:]['GERD_shifted'], data_ir.iloc[2:]['RGLP'], label='Ireland')\n",
    "plt.scatter(data_us.iloc[2:]['GERD_shifted'], data_us.iloc[2:]['RGLP'], label='US')\n",
    "plt.scatter(data_kz.iloc[2:]['GERD_shifted'], data_kz.iloc[2:]['RGLP'], label='Kazakhstan')\n",
    "plt.scatter(data_ca.iloc[2:]['GERD_shifted'], data_ca.iloc[2:]['RGLP'], label='Canada')\n",
    "plt.scatter(data_ge.iloc[2:]['GERD_shifted'], data_ge.iloc[2:]['RGLP'], label='Germany')\n",
    "plt.plot(x, y_combined, color='#2B2F42', label='Quadratic')\n",
    "plt.xlabel('GERD(t-2)')\n",
    "plt.ylabel('RGLP(t)')\n",
    "plt.title('RGLP to GERD graph all countries')\n",
    "plt.grid(True)\n",
    "plt.legend()\n",
    "plt.show()"
   ]
  },
  {
   "cell_type": "code",
   "execution_count": null,
   "metadata": {},
   "outputs": [],
   "source": [
    "import matplotlib.pyplot as plt\n",
    "import numpy as np\n",
    "\n",
    "intercept_ca, gerd_predicted_ca, gerd_predicted_sq_ca = betas_ca[0], betas_ca[1], betas_ca[2]\n",
    "intercept_ir, gerd_predicted_ir, gerd_predicted_sq_ir = betas_ir[0], betas_ir[1], betas_ir[2]\n",
    "intercept_j, gerd_predicted_j, gerd_predicted_sq_j = betas_j[0], betas_j[1], betas_j[2]\n",
    "intercept_ch, gerd_predicted_ch, gerd_predicted_sq_ch = betas_ch[0], betas_ch[1], betas_ch[2]\n",
    "intercept_us, gerd_predicted_us, gerd_predicted_sq_us = betas_us[0], betas_us[1], betas_us[2]\n",
    "intercept_ge, gerd_predicted_ge, gerd_predicted_sq_ge = betas_ge[0], betas_ge[1], betas_ge[2]\n",
    "\n",
    "betas_list = [\n",
    "    [-intercept_ca+2, -gerd_predicted_ca, -gerd_predicted_sq_ca], \n",
    "    [-intercept_ir+6, -gerd_predicted_ir, -gerd_predicted_sq_ir],\n",
    "    [-intercept_j+2, -gerd_predicted_j, -gerd_predicted_sq_j],\n",
    "    [intercept_ch, gerd_predicted_ch, gerd_predicted_sq_ch],\n",
    "    [intercept_us, gerd_predicted_us, gerd_predicted_sq_us],\n",
    "    [intercept_ge, gerd_predicted_ge, gerd_predicted_sq_ge],\n",
    "]\n",
    "\n",
    "dataframes = [data_ca, data_ir, data_j, data_ch, data_us, data_ge]\n",
    "labels = ['Canada', 'Ireland', 'Japan', 'China', 'US', 'Germany']\n",
    "\n",
    "plt.style.use('ggplot')\n",
    "fig, axs = plt.subplots(3, 2, figsize=(15, 18))\n",
    "\n",
    "x = np.linspace(0, 4, 400)\n",
    "\n",
    "for i, (df, label, betas) in enumerate(zip(dataframes, labels, betas_list)):\n",
    "    row = i // 2\n",
    "    col = i % 2\n",
    "    ax = axs[row, col]\n",
    "\n",
    "    intercept = betas[0]\n",
    "    gerd_predicted = betas[1]\n",
    "    gerd_predicted_sq = betas[2]\n",
    "    y = intercept + gerd_predicted*x + gerd_predicted_sq*np.power(x, 2)\n",
    "    \n",
    "    ax.scatter(df.iloc[2:]['GERD_predicted'], df.iloc[2:]['RGLP'], label=label)\n",
    "    ax.plot(x, y, color='#2B2F42', label='Polynomial Fit')\n",
    "    ax.set_xlabel('GERD(t-2)')\n",
    "    ax.set_ylabel('RGLP(t)')\n",
    "    ax.set_title(f'RGLP to GERD graph {label}')\n",
    "    ax.grid(True)\n",
    "    ax.legend()\n",
    "\n",
    "plt.tight_layout()\n",
    "plt.show()"
   ]
  }
 ],
 "metadata": {
  "kernelspec": {
   "display_name": "base",
   "language": "python",
   "name": "python3"
  },
  "language_info": {
   "codemirror_mode": {
    "name": "ipython",
    "version": 3
   },
   "file_extension": ".py",
   "mimetype": "text/x-python",
   "name": "python",
   "nbconvert_exporter": "python",
   "pygments_lexer": "ipython3",
   "version": "3.11.7"
  }
 },
 "nbformat": 4,
 "nbformat_minor": 2
}
